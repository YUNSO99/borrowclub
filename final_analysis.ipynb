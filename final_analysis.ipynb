{
 "cells": [
  {
   "cell_type": "code",
   "execution_count": 17,
   "metadata": {},
   "outputs": [
    {
     "name": "stdout",
     "output_type": "stream",
     "text": [
      "변환된 중복책권수 값 확인:\n",
      "        도서ID  중복책권수\n",
      "0  SS_126815      1\n",
      "1  SS_152776      1\n",
      "2  SS_102154      1\n",
      "3  SS_208701      1\n",
      "4  SS_143582      1\n",
      "5  SS_158302      1\n",
      "6  SS_155417      1\n",
      "7  SS_139733      1\n",
      "8  SS_004435      1\n",
      "9  SS_152766      1\n"
     ]
    },
    {
     "name": "stderr",
     "output_type": "stream",
     "text": [
      "C:\\Users\\songbh0304\\AppData\\Local\\Temp\\ipykernel_21780\\593140052.py:16: UserWarning: Could not infer format, so each element will be parsed individually, falling back to `dateutil`. To ensure parsing is consistent and as-expected, please specify a format.\n",
      "  info_df['마지막 대출일자'] = pd.to_datetime(info_df['마지막대출일자'], errors='coerce')\n",
      "C:\\Users\\songbh0304\\AppData\\Local\\Temp\\ipykernel_21780\\593140052.py:41: FutureWarning: Setting an item of incompatible dtype is deprecated and will raise an error in a future version of pandas. Value '[0.         0.         0.         ... 0.00251889 0.00251889 0.00251889]' has dtype incompatible with int64, please explicitly cast to a compatible dtype first.\n",
      "  combined_df.loc[mask, '우선순위_2'] = scaler.fit_transform(combined_df.loc[mask, ['중복책권수']])\n"
     ]
    },
    {
     "name": "stdout",
     "output_type": "stream",
     "text": [
      "            도서ID    우선순위_1  중복책권수  우선순위_2  우선순위_3  최종우선순위_점수\n",
      "16862  SS_131968  0.994329      1     0.0     1.0   0.697164\n",
      "77795  SS_125795  0.994146      1     0.0     1.0   0.697073\n",
      "55285  SS_131195  0.973149      1     0.0     1.0   0.686574\n",
      "96793  SS_180422  0.951577      1     0.0     1.0   0.675788\n",
      "25455  SS_083207  0.949564      1     0.0     1.0   0.674782\n"
     ]
    }
   ],
   "source": [
    "import pandas as pd\n",
    "from sklearn.preprocessing import MinMaxScaler\n",
    "\n",
    "# 파일 불러오기\n",
    "info_df = pd.read_csv(\"통합_정보.csv\", encoding='euc-kr')\n",
    "combined_df = pd.read_csv(\"C:/Users/songbh0304/OneDrive - 숭실대학교 - Soongsil University/바탕 화면/데이터톤/borrowclub/통합_정보_합침.csv\", encoding='euc-kr')\n",
    "\n",
    "# 중복책권수 데이터 변환 및 확인\n",
    "combined_df['중복책권수'] = pd.to_numeric(combined_df['중복책권수'].replace(',', '', regex=True), errors='coerce').fillna(0).astype(int)\n",
    "\n",
    "# 변환 후 중복책권수 확인\n",
    "print(\"변환된 중복책권수 값 확인:\")\n",
    "print(combined_df[['도서ID', '중복책권수']].head(10))\n",
    "\n",
    "# 1. '마지막 대출일자'와 '총 대출수' 기준 점수 계산\n",
    "info_df['마지막 대출일자'] = pd.to_datetime(info_df['마지막대출일자'], errors='coerce')\n",
    "min_date = info_df['마지막 대출일자'].min()\n",
    "\n",
    "def last_loan_priority(date):\n",
    "    if pd.isna(date):\n",
    "        return 1  # '대출 기록 없음'에 가장 높은 점수 부여\n",
    "    return (date - min_date).days  # 오래된 대출일수록 낮은 점수\n",
    "\n",
    "info_df['대출일자_점수'] = info_df['마지막 대출일자'].apply(last_loan_priority)\n",
    "info_df['대출일자_점수'] = MinMaxScaler().fit_transform(info_df[['대출일자_점수']])  # 정규화\n",
    "\n",
    "# '총 대출수' 처리 (대출 수가 적을수록 높은 점수 부여)\n",
    "info_df['총대출수'] = pd.to_numeric(info_df['총대출수'], errors='coerce').fillna(0)\n",
    "info_df['대출수_점수'] = 1 - MinMaxScaler().fit_transform(info_df[['총대출수']])  # 대출 수 적을수록 높은 점수\n",
    "\n",
    "# 가중치 1의 최종 점수 (대출일자 70%, 총대출수 30% 반영)\n",
    "info_df['우선순위_1'] = 0.7 * info_df['대출일자_점수'] + 0.3 * info_df['대출수_점수']\n",
    "\n",
    "# 2. '중복책권수' 기준 점수 계산 (1인 값은 0으로 설정하고, 2 이상만 정규화)\n",
    "combined_df['우선순위_2'] = 0\n",
    "\n",
    "# 2 이상인 값만 비율 기반 변환하여 정규화\n",
    "mask = combined_df['중복책권수'] > 1\n",
    "if mask.any():\n",
    "    scaler = MinMaxScaler()\n",
    "    combined_df.loc[mask, '우선순위_2'] = scaler.fit_transform(combined_df.loc[mask, ['중복책권수']])\n",
    "\n",
    "# 3. '출판년도' 기준 점수 계산 (오래된 출판년도일수록 높은 점수)\n",
    "combined_df['출판년도'] = pd.to_numeric(combined_df['출판년도'], errors='coerce').fillna(0)\n",
    "combined_df['출판년도_점수'] = 1 - MinMaxScaler().fit_transform(combined_df[['출판년도']])\n",
    "combined_df['우선순위_3'] = combined_df['출판년도_점수']\n",
    "\n",
    "# 최종 점수 계산 (가중치: 1 > 2 > 3)\n",
    "final_df = pd.merge(info_df[['도서ID', '우선순위_1']], combined_df[['도서ID', '중복책권수', '우선순위_2', '우선순위_3']], on='도서ID', how='inner')\n",
    "final_df['최종우선순위_점수'] = 0.5 * final_df['우선순위_1'] + 0.3 * final_df['우선순위_2'] + 0.2 * final_df['우선순위_3']\n",
    "\n",
    "# 우선순위 정렬 및 저장\n",
    "final_df = final_df.sort_values(by='최종우선순위_점수', ascending=False)\n",
    "final_df.to_csv(\"최종_우선순위.csv\", index=False, encoding='euc-kr')\n",
    "\n",
    "# 결과 미리보기\n",
    "print(final_df.head())\n"
   ]
  },
  {
   "cell_type": "code",
   "execution_count": 28,
   "metadata": {},
   "outputs": [
    {
     "name": "stdout",
     "output_type": "stream",
     "text": [
      "정규화된 우선순위_2 값 분포:\n",
      "count    181058.000000\n",
      "mean          0.000711\n",
      "std           0.006823\n",
      "min           0.000000\n",
      "25%           0.000000\n",
      "50%           0.000000\n",
      "75%           0.000000\n",
      "max           1.000000\n",
      "Name: 우선순위_2, dtype: float64\n"
     ]
    }
   ],
   "source": [
    "import pandas as pd\n",
    "from sklearn.preprocessing import MinMaxScaler\n",
    "\n",
    "# 파일 불러오기\n",
    "combined_df = pd.read_csv(\"통합_정보_합침.csv\", encoding='euc-kr')\n",
    "\n",
    "# 중복책권수 데이터 타입 변환\n",
    "combined_df['중복책권수'] = pd.to_numeric(combined_df['중복책권수'], errors='coerce').fillna(0).astype(int)\n",
    "\n",
    "# 정규화 전 2 이상인 값만 필터링\n",
    "mask = combined_df['중복책권수'] >= 2\n",
    "if not mask.any():  # 중복책권수 >= 2가 없을 경우 모든 값을 0으로 설정\n",
    "    combined_df['우선순위_2'] = 0\n",
    "else:\n",
    "    # 2 이상인 값만 정규화하여 적용\n",
    "    scaler = MinMaxScaler()\n",
    "    combined_df.loc[mask, '우선순위_2'] = scaler.fit_transform(combined_df.loc[mask, ['중복책권수']])\n",
    "    # 2 미만인 값은 0으로 설정\n",
    "    combined_df.loc[~mask, '우선순위_2'] = 0\n",
    "\n",
    "# 결과 출력 확인\n",
    "print(\"정규화된 우선순위_2 값 분포:\")\n",
    "print(combined_df['우선순위_2'].describe())\n"
   ]
  }
 ],
 "metadata": {
  "kernelspec": {
   "display_name": "ml",
   "language": "python",
   "name": "exml"
  },
  "language_info": {
   "codemirror_mode": {
    "name": "ipython",
    "version": 3
   },
   "file_extension": ".py",
   "mimetype": "text/x-python",
   "name": "python",
   "nbconvert_exporter": "python",
   "pygments_lexer": "ipython3",
   "version": "3.12.8"
  }
 },
 "nbformat": 4,
 "nbformat_minor": 2
}
