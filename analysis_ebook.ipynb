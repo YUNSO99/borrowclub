{
 "cells": [
  {
   "cell_type": "code",
   "execution_count": 2,
   "metadata": {},
   "outputs": [],
   "source": [
    "import pandas as pd\n",
    "import matplotlib.pyplot as plt\n",
    "import matplotlib.font_manager as fm\n",
    "import seaborn as sns"
   ]
  },
  {
   "cell_type": "code",
   "execution_count": 4,
   "metadata": {},
   "outputs": [
    {
     "data": {
      "text/html": [
       "<div>\n",
       "<style scoped>\n",
       "    .dataframe tbody tr th:only-of-type {\n",
       "        vertical-align: middle;\n",
       "    }\n",
       "\n",
       "    .dataframe tbody tr th {\n",
       "        vertical-align: top;\n",
       "    }\n",
       "\n",
       "    .dataframe thead th {\n",
       "        text-align: right;\n",
       "    }\n",
       "</style>\n",
       "<table border=\"1\" class=\"dataframe\">\n",
       "  <thead>\n",
       "    <tr style=\"text-align: right;\">\n",
       "      <th></th>\n",
       "      <th>도서ID</th>\n",
       "      <th>등록일자</th>\n",
       "      <th>수서방법</th>\n",
       "      <th>분류코드</th>\n",
       "      <th>ISBN</th>\n",
       "      <th>서명</th>\n",
       "      <th>저자</th>\n",
       "      <th>출판사</th>\n",
       "      <th>출판년도</th>\n",
       "      <th>소장위치</th>\n",
       "      <th>마지막대출일자</th>\n",
       "      <th>총대출수</th>\n",
       "    </tr>\n",
       "  </thead>\n",
       "  <tbody>\n",
       "    <tr>\n",
       "      <th>0</th>\n",
       "      <td>SS_270312</td>\n",
       "      <td>2017-09-13</td>\n",
       "      <td>학과신청</td>\n",
       "      <td>194</td>\n",
       "      <td>9.78202E+12</td>\n",
       "      <td>Le courage de la verite :le gouvernement de so...</td>\n",
       "      <td>Foucault, Michel</td>\n",
       "      <td>Gallimard</td>\n",
       "      <td>2009</td>\n",
       "      <td>4층인문</td>\n",
       "      <td>대출 기록 없음</td>\n",
       "      <td>0</td>\n",
       "    </tr>\n",
       "    <tr>\n",
       "      <th>1</th>\n",
       "      <td>SS_233793</td>\n",
       "      <td>2008-10-13</td>\n",
       "      <td>수서정보없음</td>\n",
       "      <td>160</td>\n",
       "      <td>9.789E+12</td>\n",
       "      <td>김나지움 논리학입문</td>\n",
       "      <td>Hegel, Georg Wilhelm Friedrich</td>\n",
       "      <td>용의숲</td>\n",
       "      <td>2008</td>\n",
       "      <td>보존서고</td>\n",
       "      <td>2018-11-26 15:48:04</td>\n",
       "      <td>4</td>\n",
       "    </tr>\n",
       "  </tbody>\n",
       "</table>\n",
       "</div>"
      ],
      "text/plain": [
       "        도서ID        등록일자    수서방법 분류코드         ISBN  \\\n",
       "0  SS_270312  2017-09-13    학과신청  194  9.78202E+12   \n",
       "1  SS_233793  2008-10-13  수서정보없음  160    9.789E+12   \n",
       "\n",
       "                                                  서명  \\\n",
       "0  Le courage de la verite :le gouvernement de so...   \n",
       "1                                         김나지움 논리학입문   \n",
       "\n",
       "                               저자        출판사  출판년도  소장위치              마지막대출일자  \\\n",
       "0                Foucault, Michel  Gallimard  2009  4층인문             대출 기록 없음   \n",
       "1  Hegel, Georg Wilhelm Friedrich        용의숲  2008  보존서고  2018-11-26 15:48:04   \n",
       "\n",
       "   총대출수  \n",
       "0     0  \n",
       "1     4  "
      ]
     },
     "execution_count": 4,
     "metadata": {},
     "output_type": "execute_result"
    }
   ],
   "source": [
    "output_path = r'통합_정보.csv'\n",
    "merged_info = pd.read_csv(output_path, encoding='euc-kr')\n",
    "merged_info.head(2)"
   ]
  },
  {
   "cell_type": "code",
   "execution_count": 17,
   "metadata": {},
   "outputs": [
    {
     "name": "stdout",
     "output_type": "stream",
     "text": [
      "총 14개의 일치하는 책 제목이 'matched_books.csv'에 저장되었습니다.\n"
     ]
    }
   ],
   "source": [
    "import pandas as pd\n",
    "\n",
    "# 파일 경로\n",
    "ebook_file = \"book_titles.csv\"  # 전자책 데이터\n",
    "info_file = \"통합_정보.csv\"  # 통합 정보 데이터\n",
    "output_file = \"matched_books.csv\"  # 일치하는 책 제목 저장 파일\n",
    "\n",
    "# CSV 파일 불러오기\n",
    "ebook_df = pd.read_csv(ebook_file, encoding=\"utf-8\")\n",
    "info_df = pd.read_csv(info_file, encoding='euc-kr')\n",
    "\n",
    "# 데이터프레임 확인\n",
    "#print(\"전자책 데이터 컬럼:\", ebook_df.columns)\n",
    "#print(\"통합정보 데이터 컬럼:\", info_df.columns)\n",
    "\n",
    "# \"서명\" 컬럼과 전자책 제목 비교\n",
    "ebook_titles = set(ebook_df[\"Book Title\"].astype(str).str.strip())  # 첫 번째 열이 책 제목이라고 가정\n",
    "info_titles = set(info_df[\"서명\"].astype(str).str.strip())  # \"서명\" 컬럼에서 책 제목 가져오기\n",
    "\n",
    "# 공통된 제목 찾기\n",
    "matched_titles = ebook_titles & info_titles  # 집합 교집합\n",
    "\n",
    "# 결과 저장\n",
    "matched_df = pd.DataFrame({\"Matched Book Title\": list(matched_titles)})\n",
    "matched_df.to_csv(output_file, index=False, encoding=\"utf-8\")\n",
    "\n",
    "print(f\"총 {len(matched_titles)}개의 일치하는 책 제목이 '{output_file}'에 저장되었습니다.\")"
   ]
  }
 ],
 "metadata": {
  "kernelspec": {
   "display_name": "2024ML",
   "language": "python",
   "name": "ml"
  },
  "language_info": {
   "codemirror_mode": {
    "name": "ipython",
    "version": 3
   },
   "file_extension": ".py",
   "mimetype": "text/x-python",
   "name": "python",
   "nbconvert_exporter": "python",
   "pygments_lexer": "ipython3",
   "version": "3.12.4"
  },
  "orig_nbformat": 4
 },
 "nbformat": 4,
 "nbformat_minor": 2
}
